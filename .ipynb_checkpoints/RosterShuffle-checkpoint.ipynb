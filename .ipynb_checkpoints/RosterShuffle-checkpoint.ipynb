{
 "cells": [
  {
   "cell_type": "code",
   "execution_count": 4,
   "metadata": {
    "collapsed": true
   },
   "outputs": [],
   "source": [
    "from random import shuffle"
   ]
  },
  {
   "cell_type": "code",
   "execution_count": 14,
   "metadata": {},
   "outputs": [
    {
     "name": "stdout",
     "output_type": "stream",
     "text": [
      "\n",
      "Team 1 :\n",
      "Johan\n",
      "Adrian\n",
      "\n",
      "Team 2 :\n",
      "Garret\n",
      "Eric\n",
      "\n",
      "Team 3 :\n",
      "Asela\n",
      "Dannie\n"
     ]
    }
   ],
   "source": [
    "gStudentList = [\"Garret\", \"Eric\", \"Adrian\", \"Johan\", \"Dannie\", \"Asela\"]\n",
    "\n",
    "def shuffleList ():\n",
    "    shuffle (gStudentList)\n",
    "\n",
    "def setTeams ():\n",
    "    i = 0\n",
    "    \n",
    "    for student in gStudentList:\n",
    "        if i % 2 == 0:\n",
    "            print (\"\\nTeam\", int (i / 2) + 1, \":\")\n",
    "        print (student)\n",
    "        i += 1\n",
    "\n",
    "shuffleList ()\n",
    "setTeams ()\n",
    "        \n",
    "    "
   ]
  },
  {
   "cell_type": "code",
   "execution_count": null,
   "metadata": {
    "collapsed": true
   },
   "outputs": [],
   "source": []
  },
  {
   "cell_type": "code",
   "execution_count": null,
   "metadata": {
    "collapsed": true
   },
   "outputs": [],
   "source": []
  }
 ],
 "metadata": {
  "kernelspec": {
   "display_name": "Python 3",
   "language": "python",
   "name": "python3"
  },
  "language_info": {
   "codemirror_mode": {
    "name": "ipython",
    "version": 3
   },
   "file_extension": ".py",
   "mimetype": "text/x-python",
   "name": "python",
   "nbconvert_exporter": "python",
   "pygments_lexer": "ipython3",
   "version": "3.4.5"
  }
 },
 "nbformat": 4,
 "nbformat_minor": 1
}
